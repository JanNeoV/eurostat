{
 "cells": [
  {
   "cell_type": "code",
   "execution_count": 6,
   "metadata": {},
   "outputs": [
    {
     "name": "stdout",
     "output_type": "stream",
     "text": [
      "Data has been successfully exported to query_refs.csv.\n"
     ]
    }
   ],
   "source": [
    "import json\n",
    "import csv\n",
    "import re\n",
    "\n",
    "# Load the JSON data\n",
    "def load_json_file(file_path):\n",
    "    with open(file_path, 'r', encoding='utf-8') as file:\n",
    "        return json.load(file)\n",
    "\n",
    "# Function to extract 'queryRef' values and parse them into table and column parts\n",
    "def extract_query_refs(json_data):\n",
    "    results = []\n",
    "    query_ref_pattern = re.compile(r'\"queryRef\":\"([^.]+)\\.([^\"]+)\"')  # Regex to extract table and column\n",
    "\n",
    "    def recurse_items(items):\n",
    "        if isinstance(items, dict):\n",
    "            for key, value in items.items():\n",
    "                if isinstance(value, str):\n",
    "                    matches = query_ref_pattern.findall(value)\n",
    "                    for match in matches:\n",
    "                        results.append({'Table': match[0], 'Column': match[1]})\n",
    "                else:\n",
    "                    recurse_items(value)\n",
    "        elif isinstance(items, list):\n",
    "            for item in items:\n",
    "                recurse_items(item)\n",
    "\n",
    "    recurse_items(json_data)  # Start recursion\n",
    "\n",
    "    return results\n",
    "\n",
    "# Path to your JSON file\n",
    "file_path = r\"C://Users/JanBusse/github/eurostat/power_bi/dataset/government_income_expense.Report/report.json\"\n",
    "\n",
    "# Extract queryRefs from the loaded JSON data\n",
    "json_data = load_json_file(file_path)\n",
    "extracted_info = extract_query_refs(json_data)\n",
    "\n",
    "# Write to CSV\n",
    "csv_file_path = 'query_refs.csv'  # Adjust path as necessary\n",
    "with open(csv_file_path, mode='w', newline='', encoding='utf-8') as file:\n",
    "    writer = csv.DictWriter(file, fieldnames=['Table', 'Column'])\n",
    "    writer.writeheader()\n",
    "    for row in extracted_info:\n",
    "        writer.writerow(row)\n",
    "\n",
    "print(f\"Data has been successfully exported to {csv_file_path}.\")\n"
   ]
  },
  {
   "cell_type": "code",
   "execution_count": null,
   "metadata": {},
   "outputs": [],
   "source": []
  }
 ],
 "metadata": {
  "kernelspec": {
   "display_name": "Python 3",
   "language": "python",
   "name": "python3"
  },
  "language_info": {
   "codemirror_mode": {
    "name": "ipython",
    "version": 3
   },
   "file_extension": ".py",
   "mimetype": "text/x-python",
   "name": "python",
   "nbconvert_exporter": "python",
   "pygments_lexer": "ipython3",
   "version": "3.12.2"
  }
 },
 "nbformat": 4,
 "nbformat_minor": 2
}
