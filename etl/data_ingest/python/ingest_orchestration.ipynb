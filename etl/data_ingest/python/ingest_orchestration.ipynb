{
 "cells": [
  {
   "cell_type": "code",
   "execution_count": 2,
   "metadata": {},
   "outputs": [
    {
     "name": "stdout",
     "output_type": "stream",
     "text": [
      "Running data_ingest_government.ipynb...\n",
      "Error running data_ingest_government.ipynb: usage: jupyter [-h] [--version] [--config-dir] [--data-dir] [--runtime-dir]\n",
      "               [--paths] [--json] [--debug]\n",
      "               [subcommand]\n",
      "\n",
      "Jupyter: Interactive Computing\n",
      "\n",
      "positional arguments:\n",
      "  subcommand     the subcommand to launch\n",
      "\n",
      "options:\n",
      "  -h, --help     show this help message and exit\n",
      "  --version      show the versions of core jupyter packages and exit\n",
      "  --config-dir   show Jupyter config dir\n",
      "  --data-dir     show Jupyter data dir\n",
      "  --runtime-dir  show Jupyter runtime dir\n",
      "  --paths        show all Jupyter paths. Add --json for machine-readable\n",
      "                 format.\n",
      "  --json         output paths as machine-readable json\n",
      "  --debug        output debug information about paths\n",
      "\n",
      "Available subcommands: kernel kernelspec migrate run troubleshoot\n",
      "\n",
      "Jupyter command `jupyter-nbconvert` not found.\n",
      "\n"
     ]
    }
   ],
   "source": [
    "import subprocess\n",
    "\n",
    "# Define the list of Python scripts to run\n",
    "scripts = [\n",
    "    \"data_ingest_government.ipynb\",\n",
    "    \"self_employment_by_education_raw.ipynb\",\n",
    "    \"self_employment_by_sex_industry_age_raw.ipynb\",\n",
    "    \"self_employment_by_sex_occupation_age_raw.ipynb\"\n",
    "]\n",
    "\n",
    "# Loop through and execute each script\n",
    "for script in scripts:\n",
    "    print(f\"Running {script}...\")\n",
    "    result = subprocess.run([\"jupyter\", \"nbconvert\", \"--to\", \"script\", \"--execute\", script], capture_output=True, text=True)\n",
    "    if result.returncode != 0:\n",
    "        print(f\"Error running {script}: {result.stderr}\")\n",
    "        break\n",
    "    else:\n",
    "        print(f\"Completed {script} successfully.\")\n"
   ]
  },
  {
   "cell_type": "code",
   "execution_count": null,
   "metadata": {},
   "outputs": [],
   "source": []
  }
 ],
 "metadata": {
  "kernelspec": {
   "display_name": "Python 3",
   "language": "python",
   "name": "python3"
  },
  "language_info": {
   "codemirror_mode": {
    "name": "ipython",
    "version": 3
   },
   "file_extension": ".py",
   "mimetype": "text/x-python",
   "name": "python",
   "nbconvert_exporter": "python",
   "pygments_lexer": "ipython3",
   "version": "3.12.3"
  }
 },
 "nbformat": 4,
 "nbformat_minor": 2
}
